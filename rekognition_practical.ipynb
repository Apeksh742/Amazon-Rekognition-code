{
 "cells": [
  {
   "cell_type": "code",
   "execution_count": 16,
   "metadata": {},
   "outputs": [],
   "source": [
    "# To click a photograph from webcam\n",
    "import cv2\n",
    "cam = cv2.VideoCapture(0)\n",
    "ret, photo = cam.read()\n",
    "cv2.imwrite(\"apeksh.jpg\", photo)\n",
    "cam.release()"
   ]
  },
  {
   "cell_type": "code",
   "execution_count": 17,
   "metadata": {},
   "outputs": [],
   "source": [
    "# To upload the image you clicked to S3 bucket\n",
    "import boto3\n",
    "s3 = boto3.client('s3')\n",
    "# Bucket Name = trial12g (Use your Own bucket Name)\n",
    "s3.upload_file(\"apeksh.jpg\",\"trial12g\",\"myPhoto.jpg\")"
   ]
  },
  {
   "cell_type": "code",
   "execution_count": 18,
   "metadata": {},
   "outputs": [],
   "source": [
    "# To send the request to AWS rekognition service\n",
    "rekognition = boto3.client('rekognition')\n",
    "response = rekognition.detect_labels(\n",
    "    Image={\n",
    "        'S3Object': {\n",
    "            'Bucket': 'trial12g',\n",
    "            'Name': 'myPhoto.jpg',\n",
    "        }\n",
    "    },\n",
    "    MaxLabels=5,\n",
    "    MinConfidence=80)"
   ]
  },
  {
   "cell_type": "code",
   "execution_count": 27,
   "metadata": {},
   "outputs": [
    {
     "data": {
      "text/plain": [
       "{'Labels': [{'Name': 'Person',\n",
       "   'Confidence': 99.47409057617188,\n",
       "   'Instances': [{'BoundingBox': {'Width': 0.5278465151786804,\n",
       "      'Height': 0.5468286871910095,\n",
       "      'Left': 0.26172956824302673,\n",
       "      'Top': 0.32811784744262695},\n",
       "     'Confidence': 99.47409057617188}],\n",
       "   'Parents': []},\n",
       "  {'Name': 'Electronics',\n",
       "   'Confidence': 93.08086395263672,\n",
       "   'Instances': [],\n",
       "   'Parents': []},\n",
       "  {'Name': 'Mobile Phone',\n",
       "   'Confidence': 88.428466796875,\n",
       "   'Instances': [{'BoundingBox': {'Width': 0.15808792412281036,\n",
       "      'Height': 0.43317386507987976,\n",
       "      'Left': 0.7273442149162292,\n",
       "      'Top': 0.24953480064868927},\n",
       "     'Confidence': 88.428466796875}],\n",
       "   'Parents': [{'Name': 'Phone'}, {'Name': 'Electronics'}]},\n",
       "  {'Name': 'Phone',\n",
       "   'Confidence': 88.428466796875,\n",
       "   'Instances': [],\n",
       "   'Parents': [{'Name': 'Electronics'}]},\n",
       "  {'Name': 'Face',\n",
       "   'Confidence': 88.1379623413086,\n",
       "   'Instances': [],\n",
       "   'Parents': [{'Name': 'Person'}]}],\n",
       " 'LabelModelVersion': '2.0',\n",
       " 'ResponseMetadata': {'RequestId': 'c1b422f5-16a3-450e-95fa-68da0aa3336a',\n",
       "  'HTTPStatusCode': 200,\n",
       "  'HTTPHeaders': {'content-type': 'application/x-amz-json-1.1',\n",
       "   'date': 'Sun, 04 Apr 2021 16:54:59 GMT',\n",
       "   'x-amzn-requestid': 'c1b422f5-16a3-450e-95fa-68da0aa3336a',\n",
       "   'content-length': '815',\n",
       "   'connection': 'keep-alive'},\n",
       "  'RetryAttempts': 0}}"
      ]
     },
     "execution_count": 27,
     "metadata": {},
     "output_type": "execute_result"
    }
   ],
   "source": [
    "# To see the format of response from AWS Rekognition svc\n",
    "response"
   ]
  },
  {
   "cell_type": "code",
   "execution_count": 20,
   "metadata": {},
   "outputs": [
    {
     "name": "stdout",
     "output_type": "stream",
     "text": [
      "Person = 99.47409057617188\n",
      "Electronics = 93.08086395263672\n",
      "Mobile Phone = 88.428466796875\n",
      "Phone = 88.428466796875\n",
      "Face = 88.1379623413086\n"
     ]
    }
   ],
   "source": [
    "# Print out the Names of detected labels and their confidence scores\n",
    "for i in range(0,5):\n",
    "    print(response['Labels'][i][\"Name\"],end=' = ')\n",
    "    print(response['Labels'][i]['Confidence'])"
   ]
  },
  {
   "cell_type": "code",
   "execution_count": 21,
   "metadata": {},
   "outputs": [],
   "source": [
    "# Getting Height and width of the photo\n",
    "photo1 = cv2.imread('apeksh.jpg') \n",
    "imgHeight,imgWidth, channels = photo1.shape"
   ]
  },
  {
   "cell_type": "code",
   "execution_count": 22,
   "metadata": {},
   "outputs": [
    {
     "name": "stdout",
     "output_type": "stream",
     "text": [
      "480\n",
      "640\n"
     ]
    }
   ],
   "source": [
    "print(imgHeight)\n",
    "print(imgWidth)"
   ]
  },
  {
   "cell_type": "code",
   "execution_count": 25,
   "metadata": {},
   "outputs": [
    {
     "name": "stdout",
     "output_type": "stream",
     "text": [
      "[{'BoundingBox': {'Width': 0.5278465151786804, 'Height': 0.5468286871910095, 'Left': 0.26172956824302673, 'Top': 0.32811784744262695}, 'Confidence': 99.47409057617188}]\n",
      "1\n",
      "[]\n",
      "[{'BoundingBox': {'Width': 0.15808792412281036, 'Height': 0.43317386507987976, 'Left': 0.7273442149162292, 'Top': 0.24953480064868927}, 'Confidence': 88.428466796875}]\n",
      "1\n",
      "[]\n",
      "[]\n"
     ]
    }
   ],
   "source": [
    "# Getting Height and width of the photo\n",
    "photo1 = cv2.imread('apeksh.jpg') \n",
    "imgHeight,imgWidth, channels = photo1.shape\n",
    "\n",
    "print(imgHeight)\n",
    "print(imgWidth)\n",
    "\n",
    "# To get the dimensions of the bounding box\n",
    "colors = [(247, 202, 201),(146, 168, 209),(0,128, 0)]\n",
    "for i in range(0,5):\n",
    "    print(response['Labels'][i][\"Instances\"])\n",
    "    if (len(response['Labels'][i][\"Instances\"]) != 0):\n",
    "        noOfBoundingBox = len(response['Labels'][i][\"Instances\"])\n",
    "        print(noOfBoundingBox)\n",
    "        for j in range(0,noOfBoundingBox):\n",
    "            dimensions = (response['Labels'][i][\"Instances\"][j][\"BoundingBox\"])\n",
    "            # Storing them in variables       \n",
    "            boxWidth = dimensions['Width']\n",
    "            boxHeight = dimensions['Height']\n",
    "            boxLeft = dimensions['Left']\n",
    "            boxTop = dimensions['Top']\n",
    "            # Plotting points of rectangle\n",
    "            start_point = (int(boxLeft*imgWidth), int(boxTop*imgHeight)) \n",
    "            end_point = (int((boxLeft + boxWidth)*imgWidth),int((boxTop + boxHeight)*imgHeight))\n",
    "            # Drawing Bounding Box on the coordinates\n",
    "            color = colors[i] \n",
    "            thickness = 2\n",
    "            image = cv2.rectangle(photo1, start_point, end_point, color, thickness) \n",
    "            cv2.imwrite('labelled.jpg',image)\n",
    "            \n",
    "\n",
    "\n",
    "\n"
   ]
  },
  {
   "cell_type": "code",
   "execution_count": 10,
   "metadata": {},
   "outputs": [
    {
     "data": {
      "text/plain": [
       "{'Width': 0.5368233323097229,\n",
       " 'Height': 0.5063154697418213,\n",
       " 'Left': 0.26631179451942444,\n",
       " 'Top': 0.3705206513404846}"
      ]
     },
     "execution_count": 10,
     "metadata": {},
     "output_type": "execute_result"
    }
   ],
   "source": [
    "dimensions"
   ]
  },
  {
   "cell_type": "code",
   "execution_count": 11,
   "metadata": {},
   "outputs": [],
   "source": []
  },
  {
   "cell_type": "code",
   "execution_count": 12,
   "metadata": {},
   "outputs": [],
   "source": []
  },
  {
   "cell_type": "code",
   "execution_count": 13,
   "metadata": {},
   "outputs": [
    {
     "name": "stdout",
     "output_type": "stream",
     "text": [
      "480\n",
      "640\n"
     ]
    }
   ],
   "source": []
  },
  {
   "cell_type": "code",
   "execution_count": 14,
   "metadata": {},
   "outputs": [],
   "source": []
  },
  {
   "cell_type": "code",
   "execution_count": 15,
   "metadata": {},
   "outputs": [
    {
     "name": "stdout",
     "output_type": "stream",
     "text": [
      "(170, 177)\n",
      "(514, 420)\n"
     ]
    }
   ],
   "source": [
    "\n",
    "print(start_point)\n",
    "print(end_point)\n"
   ]
  },
  {
   "cell_type": "code",
   "execution_count": 16,
   "metadata": {},
   "outputs": [
    {
     "data": {
      "text/plain": [
       "True"
      ]
     },
     "execution_count": 16,
     "metadata": {},
     "output_type": "execute_result"
    }
   ],
   "source": []
  },
  {
   "cell_type": "code",
   "execution_count": 17,
   "metadata": {},
   "outputs": [],
   "source": [
    "cv2.imshow(\"labeled\", image)"
   ]
  },
  {
   "cell_type": "code",
   "execution_count": 2,
   "metadata": {},
   "outputs": [],
   "source": [
    "import cv2"
   ]
  },
  {
   "cell_type": "code",
   "execution_count": 5,
   "metadata": {},
   "outputs": [],
   "source": [
    "import boto3"
   ]
  },
  {
   "cell_type": "code",
   "execution_count": null,
   "metadata": {},
   "outputs": [],
   "source": []
  },
  {
   "cell_type": "code",
   "execution_count": null,
   "metadata": {},
   "outputs": [],
   "source": []
  },
  {
   "cell_type": "code",
   "execution_count": null,
   "metadata": {},
   "outputs": [],
   "source": []
  }
 ],
 "metadata": {
  "kernelspec": {
   "display_name": "Python 3",
   "language": "python",
   "name": "python3"
  },
  "language_info": {
   "codemirror_mode": {
    "name": "ipython",
    "version": 3
   },
   "file_extension": ".py",
   "mimetype": "text/x-python",
   "name": "python",
   "nbconvert_exporter": "python",
   "pygments_lexer": "ipython3",
   "version": "3.7.6"
  }
 },
 "nbformat": 4,
 "nbformat_minor": 4
}
