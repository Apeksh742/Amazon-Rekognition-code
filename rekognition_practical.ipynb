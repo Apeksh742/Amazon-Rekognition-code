{
 "cells": [
  {
   "cell_type": "code",
   "execution_count": null,
   "metadata": {},
   "outputs": [],
   "source": [
    "# To click a photograph from webcam\n",
    "import cv2\n",
    "cam = cv2.VideoCapture(0)\n",
    "ret, photo = cam.read()\n",
    "cv2.imwrite(\"apeksh.jpg\", photo)\n",
    "cam.release()"
   ]
  },
  {
   "cell_type": "code",
   "execution_count": null,
   "metadata": {},
   "outputs": [],
   "source": [
    "# To upload the image you clicked to S3 bucket\n",
    "import boto3\n",
    "s3 = boto3.client('s3')\n",
    "# Bucket Name = trial12g (Use your Own bucket Name)\n",
    "s3.upload_file(\"apeksh.jpg\",\"trial12g\",\"myPhoto.jpg\")"
   ]
  },
  {
   "cell_type": "code",
   "execution_count": null,
   "metadata": {},
   "outputs": [],
   "source": [
    "# To send the request to AWS rekognition service\n",
    "rekognition = boto3.client('rekognition')\n",
    "response = rekognition.detect_labels(\n",
    "    Image={\n",
    "        'S3Object': {\n",
    "            'Bucket': 'trial12g',\n",
    "            'Name': 'myPhoto.jpg',\n",
    "        }\n",
    "    },\n",
    "    MaxLabels=5,\n",
    "    MinConfidence=80)"
   ]
  },
  {
   "cell_type": "code",
   "execution_count": null,
   "metadata": {},
   "outputs": [],
   "source": [
    "# To see the format of response from AWS Rekognition svc\n",
    "response"
   ]
  },
  {
   "cell_type": "code",
   "execution_count": null,
   "metadata": {},
   "outputs": [],
   "source": [
    "# Print out the Names of detected labels and their confidence scores\n",
    "for i in range(0,5):\n",
    "    print(response['Labels'][i][\"Name\"],end=' = ')\n",
    "    print(response['Labels'][i]['Confidence'])"
   ]
  },
  {
   "cell_type": "code",
   "execution_count": null,
   "metadata": {},
   "outputs": [],
   "source": [
    "# Getting Height and width of the photo\n",
    "photo1 = cv2.imread('apeksh.jpg') \n",
    "imgHeight,imgWidth, channels = photo1.shape"
   ]
  },
  {
   "cell_type": "code",
   "execution_count": null,
   "metadata": {},
   "outputs": [],
   "source": [
    "print(imgHeight)\n",
    "print(imgWidth)"
   ]
  },
  {
   "cell_type": "code",
   "execution_count": null,
   "metadata": {},
   "outputs": [],
   "source": [
    "# Getting Height and width of the photo\n",
    "photo1 = cv2.imread('apeksh.jpg') \n",
    "imgHeight,imgWidth, channels = photo1.shape\n",
    "\n",
    "print(imgHeight)\n",
    "print(imgWidth)\n",
    "\n",
    "# To get the dimensions of the bounding box\n",
    "colors = [(247, 202, 201),(146, 168, 209),(0,128, 0)]\n",
    "for i in range(0,5):\n",
    "    print(response['Labels'][i][\"Instances\"])\n",
    "    if (len(response['Labels'][i][\"Instances\"]) != 0):\n",
    "        noOfBoundingBox = len(response['Labels'][i][\"Instances\"])\n",
    "        print(noOfBoundingBox)\n",
    "        for j in range(0,noOfBoundingBox):\n",
    "            dimensions = (response['Labels'][i][\"Instances\"][j][\"BoundingBox\"])\n",
    "            # Storing them in variables       \n",
    "            boxWidth = dimensions['Width']\n",
    "            boxHeight = dimensions['Height']\n",
    "            boxLeft = dimensions['Left']\n",
    "            boxTop = dimensions['Top']\n",
    "            # Plotting points of rectangle\n",
    "            start_point = (int(boxLeft*imgWidth), int(boxTop*imgHeight)) \n",
    "            end_point = (int((boxLeft + boxWidth)*imgWidth),int((boxTop + boxHeight)*imgHeight))\n",
    "            # Drawing Bounding Box on the coordinates\n",
    "            color = colors[i] \n",
    "            thickness = 2\n",
    "            image = cv2.rectangle(photo1, start_point, end_point, color, thickness) \n",
    "            cv2.imwrite('labelled.jpg',image)\n",
    "            \n",
    "\n",
    "\n",
    "\n"
   ]
  }
 ],
 "metadata": {
  "kernelspec": {
   "display_name": "Python 3",
   "language": "python",
   "name": "python3"
  },
  "language_info": {
   "codemirror_mode": {
    "name": "ipython",
    "version": 3
   },
   "file_extension": ".py",
   "mimetype": "text/x-python",
   "name": "python",
   "nbconvert_exporter": "python",
   "pygments_lexer": "ipython3",
   "version": "3.7.6"
  }
 },
 "nbformat": 4,
 "nbformat_minor": 4
}
