{
 "cells": [
  {
   "cell_type": "code",
   "execution_count": 1,
   "metadata": {},
   "outputs": [],
   "source": [
    "import boto3\n",
    "client = boto3.client('rekognition')\n",
    "response = client.detect_faces(\n",
    "    Image={\n",
    "        'S3Object': {\n",
    "            'Bucket': 'trial12g',\n",
    "            'Name': 'group-photo.jpg',\n",
    "        }\n",
    "    },\n",
    ")"
   ]
  },
  {
   "cell_type": "code",
   "execution_count": 2,
   "metadata": {},
   "outputs": [
    {
     "data": {
      "text/plain": [
       "{'FaceDetails': [{'BoundingBox': {'Width': 0.0672907680273056,\n",
       "    'Height': 0.06907730549573898,\n",
       "    'Left': 0.8035803437232971,\n",
       "    'Top': 0.528011679649353},\n",
       "   'Landmarks': [{'Type': 'eyeLeft',\n",
       "     'X': 0.8212792873382568,\n",
       "     'Y': 0.5576866865158081},\n",
       "    {'Type': 'eyeRight', 'X': 0.8517273664474487, 'Y': 0.5534328818321228},\n",
       "    {'Type': 'mouthLeft', 'X': 0.8294188976287842, 'Y': 0.5793430805206299},\n",
       "    {'Type': 'mouthRight', 'X': 0.854832649230957, 'Y': 0.5758517384529114},\n",
       "    {'Type': 'nose', 'X': 0.8368406891822815, 'Y': 0.5650923848152161}],\n",
       "   'Pose': {'Roll': -11.613744735717773,\n",
       "    'Yaw': -2.35764479637146,\n",
       "    'Pitch': 14.644719123840332},\n",
       "   'Quality': {'Brightness': 93.33341979980469,\n",
       "    'Sharpness': 67.22731018066406},\n",
       "   'Confidence': 99.99578857421875},\n",
       "  {'BoundingBox': {'Width': 0.05948818847537041,\n",
       "    'Height': 0.06643428653478622,\n",
       "    'Left': 0.2828361988067627,\n",
       "    'Top': 0.5332840085029602},\n",
       "   'Landmarks': [{'Type': 'eyeLeft',\n",
       "     'X': 0.30089229345321655,\n",
       "     'Y': 0.55808424949646},\n",
       "    {'Type': 'eyeRight', 'X': 0.3274097740650177, 'Y': 0.5595917701721191},\n",
       "    {'Type': 'mouthLeft', 'X': 0.3009210228919983, 'Y': 0.5791086554527283},\n",
       "    {'Type': 'mouthRight', 'X': 0.3231263756752014, 'Y': 0.5803874731063843},\n",
       "    {'Type': 'nose', 'X': 0.3133019506931305, 'Y': 0.5711824893951416}],\n",
       "   'Pose': {'Roll': 3.8569979667663574,\n",
       "    'Yaw': 2.2414095401763916,\n",
       "    'Pitch': -0.5192462801933289},\n",
       "   'Quality': {'Brightness': 97.48918151855469,\n",
       "    'Sharpness': 46.02980041503906},\n",
       "   'Confidence': 99.99115753173828},\n",
       "  {'BoundingBox': {'Width': 0.059064269065856934,\n",
       "    'Height': 0.06581336259841919,\n",
       "    'Left': 0.1287515014410019,\n",
       "    'Top': 0.5200799703598022},\n",
       "   'Landmarks': [{'Type': 'eyeLeft',\n",
       "     'X': 0.1479882150888443,\n",
       "     'Y': 0.5432093739509583},\n",
       "    {'Type': 'eyeRight', 'X': 0.1741902232170105, 'Y': 0.5464351177215576},\n",
       "    {'Type': 'mouthLeft', 'X': 0.14566080272197723, 'Y': 0.565445065498352},\n",
       "    {'Type': 'mouthRight', 'X': 0.167403906583786, 'Y': 0.5681275725364685},\n",
       "    {'Type': 'nose', 'X': 0.15929587185382843, 'Y': 0.5528689026832581}],\n",
       "   'Pose': {'Roll': 8.05762767791748,\n",
       "    'Yaw': 0.9122042059898376,\n",
       "    'Pitch': 16.851869583129883},\n",
       "   'Quality': {'Brightness': 92.90258026123047,\n",
       "    'Sharpness': 46.02980041503906},\n",
       "   'Confidence': 99.98896026611328},\n",
       "  {'BoundingBox': {'Width': 0.06301837414503098,\n",
       "    'Height': 0.06062830239534378,\n",
       "    'Left': 0.48208415508270264,\n",
       "    'Top': 0.5473614931106567},\n",
       "   'Landmarks': [{'Type': 'eyeLeft',\n",
       "     'X': 0.4971301257610321,\n",
       "     'Y': 0.5739046335220337},\n",
       "    {'Type': 'eyeRight', 'X': 0.5233506560325623, 'Y': 0.5679407715797424},\n",
       "    {'Type': 'mouthLeft', 'X': 0.5067221522331238, 'Y': 0.5934020280838013},\n",
       "    {'Type': 'mouthRight', 'X': 0.5286134481430054, 'Y': 0.5884629487991333},\n",
       "    {'Type': 'nose', 'X': 0.5115301012992859, 'Y': 0.5802425146102905}],\n",
       "   'Pose': {'Roll': -16.85452651977539,\n",
       "    'Yaw': -3.4269049167633057,\n",
       "    'Pitch': 12.492730140686035},\n",
       "   'Quality': {'Brightness': 96.76487731933594,\n",
       "    'Sharpness': 46.02980041503906},\n",
       "   'Confidence': 99.98644256591797},\n",
       "  {'BoundingBox': {'Width': 0.05893225222826004,\n",
       "    'Height': 0.06427974253892899,\n",
       "    'Left': 0.6373217105865479,\n",
       "    'Top': 0.512336254119873},\n",
       "   'Landmarks': [{'Type': 'eyeLeft',\n",
       "     'X': 0.6502282023429871,\n",
       "     'Y': 0.5406819581985474},\n",
       "    {'Type': 'eyeRight', 'X': 0.6770009994506836, 'Y': 0.5361290574073792},\n",
       "    {'Type': 'mouthLeft', 'X': 0.6585417985916138, 'Y': 0.561754584312439},\n",
       "    {'Type': 'mouthRight', 'X': 0.6808366179466248, 'Y': 0.5579593181610107},\n",
       "    {'Type': 'nose', 'X': 0.6655528545379639, 'Y': 0.5486364364624023}],\n",
       "   'Pose': {'Roll': -13.355245590209961,\n",
       "    'Yaw': -1.8601146936416626,\n",
       "    'Pitch': 11.442907333374023},\n",
       "   'Quality': {'Brightness': 95.31156158447266,\n",
       "    'Sharpness': 38.89601135253906},\n",
       "   'Confidence': 99.98193359375}],\n",
       " 'ResponseMetadata': {'RequestId': '644c8df6-7b5e-4cc3-8be0-b8ce8976b438',\n",
       "  'HTTPStatusCode': 200,\n",
       "  'HTTPHeaders': {'content-type': 'application/x-amz-json-1.1',\n",
       "   'date': 'Mon, 12 Apr 2021 04:14:53 GMT',\n",
       "   'x-amzn-requestid': '644c8df6-7b5e-4cc3-8be0-b8ce8976b438',\n",
       "   'content-length': '3307',\n",
       "   'connection': 'keep-alive'},\n",
       "  'RetryAttempts': 0}}"
      ]
     },
     "execution_count": 2,
     "metadata": {},
     "output_type": "execute_result"
    }
   ],
   "source": [
    "response"
   ]
  },
  {
   "cell_type": "code",
   "execution_count": 3,
   "metadata": {},
   "outputs": [],
   "source": [
    "# Getting Height and width of the photo\n",
    "import cv2\n",
    "photo1 = cv2.imread('group-photo.jpg') \n",
    "imgHeight,imgWidth, channels = photo1.shape"
   ]
  },
  {
   "cell_type": "code",
   "execution_count": 4,
   "metadata": {},
   "outputs": [],
   "source": [
    "colors = [(247, 202, 201),(146, 168, 209),(0,128, 0)]\n",
    "for i in range(0,len(response['FaceDetails'])):\n",
    "    dimensions = response['FaceDetails'][i]['BoundingBox']\n",
    "    boxWidth = dimensions['Width']\n",
    "    boxHeight = dimensions['Height']\n",
    "    boxLeft = dimensions['Left']\n",
    "    boxTop = dimensions['Top']\n",
    "    start_point = (int(boxLeft*imgWidth), int(boxTop*imgHeight)) \n",
    "    end_point = (int((boxLeft + boxWidth)*imgWidth),int((boxTop + boxHeight)*imgHeight))\n",
    "    # Drawing Bounding Box on the coordinates\n",
    "    color = colors[1]\n",
    "    thickness = 2\n",
    "    image = cv2.rectangle(photo1, start_point, end_point, color, thickness) \n",
    "    cv2.imwrite('face_detected.jpg',image)\n"
   ]
  },
  {
   "cell_type": "code",
   "execution_count": null,
   "metadata": {},
   "outputs": [],
   "source": []
  }
 ],
 "metadata": {
  "kernelspec": {
   "display_name": "Python 3",
   "language": "python",
   "name": "python3"
  },
  "language_info": {
   "codemirror_mode": {
    "name": "ipython",
    "version": 3
   },
   "file_extension": ".py",
   "mimetype": "text/x-python",
   "name": "python",
   "nbconvert_exporter": "python",
   "pygments_lexer": "ipython3",
   "version": "3.7.6"
  }
 },
 "nbformat": 4,
 "nbformat_minor": 4
}
