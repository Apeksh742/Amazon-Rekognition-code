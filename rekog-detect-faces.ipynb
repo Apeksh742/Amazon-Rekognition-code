{
 "cells": [
  {
   "cell_type": "code",
   "execution_count": 1,
   "metadata": {},
   "outputs": [],
   "source": [
    "import boto3\n",
    "client = boto3.client('rekognition')\n",
    "response = client.detect_faces(\n",
    "    Image={\n",
    "        'S3Object': {\n",
    "            'Bucket': 'trial12g',\n",
    "            'Name': 'myPhoto.jpg',\n",
    "        }\n",
    "    },\n",
    ")"
   ]
  },
  {
   "cell_type": "code",
   "execution_count": 2,
   "metadata": {},
   "outputs": [
    {
     "data": {
      "text/plain": [
       "{'FaceDetails': [{'BoundingBox': {'Width': 0.16470536589622498,\n",
       "    'Height': 0.2803157866001129,\n",
       "    'Left': 0.455523818731308,\n",
       "    'Top': 0.43478915095329285},\n",
       "   'Landmarks': [{'Type': 'eyeLeft',\n",
       "     'X': 0.4904765486717224,\n",
       "     'Y': 0.5306013822555542},\n",
       "    {'Type': 'eyeRight', 'X': 0.5636101961135864, 'Y': 0.5284092426300049},\n",
       "    {'Type': 'mouthLeft', 'X': 0.4975401759147644, 'Y': 0.6335402131080627},\n",
       "    {'Type': 'mouthRight', 'X': 0.5586029887199402, 'Y': 0.6316769123077393},\n",
       "    {'Type': 'nose', 'X': 0.5262738466262817, 'Y': 0.5799174904823303}],\n",
       "   'Pose': {'Roll': -1.7736247777938843,\n",
       "    'Yaw': 1.6466312408447266,\n",
       "    'Pitch': 8.486044883728027},\n",
       "   'Quality': {'Brightness': 70.51849365234375,\n",
       "    'Sharpness': 53.330047607421875},\n",
       "   'Confidence': 99.9948959350586}],\n",
       " 'ResponseMetadata': {'RequestId': '37dba854-d2cd-49b3-9649-e9ba15d74dce',\n",
       "  'HTTPStatusCode': 200,\n",
       "  'HTTPHeaders': {'content-type': 'application/x-amz-json-1.1',\n",
       "   'date': 'Mon, 05 Apr 2021 08:20:55 GMT',\n",
       "   'x-amzn-requestid': '37dba854-d2cd-49b3-9649-e9ba15d74dce',\n",
       "   'content-length': '675',\n",
       "   'connection': 'keep-alive'},\n",
       "  'RetryAttempts': 0}}"
      ]
     },
     "execution_count": 2,
     "metadata": {},
     "output_type": "execute_result"
    }
   ],
   "source": [
    "response"
   ]
  },
  {
   "cell_type": "code",
   "execution_count": 3,
   "metadata": {},
   "outputs": [],
   "source": [
    "# Getting Height and width of the photo\n",
    "import cv2\n",
    "photo1 = cv2.imread('apeksh.jpg') \n",
    "imgHeight,imgWidth, channels = photo1.shape"
   ]
  },
  {
   "cell_type": "code",
   "execution_count": 4,
   "metadata": {},
   "outputs": [],
   "source": [
    "colors = [(247, 202, 201),(146, 168, 209),(0,128, 0)]\n",
    "for i in range(0,len(response['FaceDetails'])):\n",
    "    dimensions = response['FaceDetails'][i]['BoundingBox']\n",
    "    boxWidth = dimensions['Width']\n",
    "    boxHeight = dimensions['Height']\n",
    "    boxLeft = dimensions['Left']\n",
    "    boxTop = dimensions['Top']\n",
    "    start_point = (int(boxLeft*imgWidth), int(boxTop*imgHeight)) \n",
    "    end_point = (int((boxLeft + boxWidth)*imgWidth),int((boxTop + boxHeight)*imgHeight))\n",
    "    # Drawing Bounding Box on the coordinates\n",
    "    color = colors[i]\n",
    "    thickness = 2\n",
    "    image = cv2.rectangle(photo1, start_point, end_point, color, thickness) \n",
    "    cv2.imwrite('face_detected.jpg',image)\n"
   ]
  },
  {
   "cell_type": "code",
   "execution_count": null,
   "metadata": {},
   "outputs": [],
   "source": []
  }
 ],
 "metadata": {
  "kernelspec": {
   "display_name": "Python 3",
   "language": "python",
   "name": "python3"
  },
  "language_info": {
   "codemirror_mode": {
    "name": "ipython",
    "version": 3
   },
   "file_extension": ".py",
   "mimetype": "text/x-python",
   "name": "python",
   "nbconvert_exporter": "python",
   "pygments_lexer": "ipython3",
   "version": "3.7.6"
  }
 },
 "nbformat": 4,
 "nbformat_minor": 4
}
